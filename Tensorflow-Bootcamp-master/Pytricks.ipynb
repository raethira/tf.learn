{
 "cells": [
  {
   "cell_type": "markdown",
   "metadata": {},
   "source": [
    "# PyTricks"
   ]
  },
  {
   "cell_type": "code",
   "execution_count": 2,
   "metadata": {},
   "outputs": [
    {
     "name": "stdout",
     "output_type": "stream",
     "text": [
      "True\n",
      "True\n"
     ]
    }
   ],
   "source": [
    "\"\"\"chained comparison with all kind of operators\"\"\"\n",
    "a = 10\n",
    "print(1 < a < 50)\n",
    "print(10 == a < 20)"
   ]
  },
  {
   "cell_type": "code",
   "execution_count": 13,
   "metadata": {},
   "outputs": [
    {
     "name": "stdout",
     "output_type": "stream",
     "text": [
      "10\n",
      "12\n"
     ]
    }
   ],
   "source": [
    "\"\"\"simple tuple and dictionary unpacking\"\"\"\n",
    "def product(a, b):\n",
    "    return a * b\n",
    "\n",
    "argument_tuple = (2, 5)\n",
    "argument_dict = {'a': 3, 'b': 4}\n",
    "\n",
    "print(product(*argument_tuple))\n",
    "print(product(**argument_dict))"
   ]
  },
  {
   "cell_type": "code",
   "execution_count": 14,
   "metadata": {},
   "outputs": [
    {
     "name": "stdout",
     "output_type": "stream",
     "text": [
      "2\n",
      "is odd\n"
     ]
    }
   ],
   "source": [
    "\"\"\"True and False can be used as integer values\n",
    "True -> 1\n",
    "False -> 0\n",
    "\"\"\"\n",
    "a = 5\n",
    "print(isinstance(a, int) + (a <= 10))\n",
    "print([\"is odd\", \"is even\"][a % 2 == 0])"
   ]
  },
  {
   "cell_type": "code",
   "execution_count": 26,
   "metadata": {},
   "outputs": [
    {
     "name": "stdout",
     "output_type": "stream",
     "text": [
      "True\n",
      "5\n"
     ]
    }
   ],
   "source": [
    "\"\"\"Python has two ways to do conditional assignments\n",
    "The first is a fairly standard teranary style;\n",
    "<value if true> if <conditional> else <value if false>\n",
    "The second method takes advantage of the fact that python's or is lazy. When\n",
    "an assignment is made if the first value is falsy (None is falsy), then it will\n",
    "automatically return the second value, even if that value is falsy.\n",
    "\"\"\"\n",
    "b = True\n",
    "print(True if b else False)\n",
    "\n",
    "b = None or 5\n",
    "print(b)"
   ]
  },
  {
   "cell_type": "code",
   "execution_count": 22,
   "metadata": {},
   "outputs": [
    {
     "name": "stdout",
     "output_type": "stream",
     "text": [
      "15\n"
     ]
    }
   ],
   "source": [
    "\"\"\"calling different functions with same arguments based on condition\"\"\"\n",
    "def product(a, b):\n",
    "    return a * b\n",
    "\n",
    "def subtract(a, b):\n",
    "    return a - b\n",
    "\n",
    "b = True\n",
    "print((product if b else subtract)(5, 3))"
   ]
  },
  {
   "cell_type": "code",
   "execution_count": 27,
   "metadata": {},
   "outputs": [
    {
     "name": "stdout",
     "output_type": "stream",
     "text": [
      "[1, 2, 3, 4, 5]\n",
      "[1, 2, 3, 4, 5]\n",
      "[[1, 2], [3, 4]]\n"
     ]
    }
   ],
   "source": [
    "\"\"\"a fast way to make a shallow copy of a list\"\"\"\n",
    "\n",
    "a = [1, 2, 3, 4, 5]\n",
    "print(a[:])\n",
    "\n",
    "\"\"\"using the list.copy() method (python3 only)\"\"\"\n",
    "\n",
    "a = [1, 2, 3, 4, 5]\n",
    "\n",
    "print(a.copy())\n",
    "\n",
    "\n",
    "\"\"\"copy nested lists using copy.deepcopy\"\"\"\n",
    "\n",
    "from copy import deepcopy\n",
    "\n",
    "l = [[1, 2], [3, 4]]\n",
    "\n",
    "l2 = deepcopy(l)\n",
    "print(l2)"
   ]
  },
  {
   "cell_type": "code",
   "execution_count": 28,
   "metadata": {},
   "outputs": [
    {
     "name": "stdout",
     "output_type": "stream",
     "text": [
      "[('rotten tomato', 1), ('banana', 5), ('apple', 10), ('orange', 20)]\n",
      "[('rotten tomato', 1), ('banana', 5), ('apple', 10), ('orange', 20)]\n",
      "['rotten tomato', 'banana', 'apple', 'orange']\n"
     ]
    }
   ],
   "source": [
    "\"\"\" Sort a dictionary by its values with the built-in sorted() function and a 'key' argument. \"\"\"\n",
    " \n",
    "d = {'apple': 10, 'orange': 20, 'banana': 5, 'rotten tomato': 1}\n",
    "print(sorted(d.items(), key=lambda x: x[1]))\n",
    "\n",
    "\n",
    "\"\"\" Sort using operator.itemgetter as the sort key instead of a lambda\"\"\"\n",
    "\n",
    "\n",
    "from operator import itemgetter\n",
    "\n",
    "\n",
    "print(sorted(d.items(), key=itemgetter(1)))\n",
    "\n",
    "\n",
    "\"\"\"Sort dict keys by value\"\"\"\n",
    "\n",
    "\n",
    "print(sorted(d, key=d.get))"
   ]
  },
  {
   "cell_type": "code",
   "execution_count": 29,
   "metadata": {},
   "outputs": [
    {
     "name": "stdout",
     "output_type": "stream",
     "text": [
      "0 [1, 2, 3, 4, 5, 6, 7, 8] 9\n",
      "1 [2, 3, 4] [5, 5, 5] 6 [7, 8]\n"
     ]
    }
   ],
   "source": [
    "\"\"\"allows collecting not explicitly assigned values into \n",
    "a placeholder variable\"\"\"\n",
    "\n",
    "a, *b, c = range(10)\n",
    "print(a, b, c)\n",
    "\n",
    "\"\"\"advanced example\"\"\"\n",
    "\n",
    "[(c, *d, [*e]), f, *g] = [[1, 2, 3, 4, [5, 5, 5]], 6, 7, 8]\n",
    "print(c, d, e, f, g)"
   ]
  },
  {
   "cell_type": "code",
   "execution_count": 32,
   "metadata": {},
   "outputs": [
    {
     "name": "stdout",
     "output_type": "stream",
     "text": [
      "[1, 2, 3, 4]\n",
      "[1, 2, 3, 4]\n",
      "[1, 2, 3, 4]\n"
     ]
    }
   ],
   "source": [
    "\"\"\"\n",
    "Deep flattens a nested list\n",
    "Examples:\n",
    "    >>> list(flatten_list([1, 2, [3, 4], [5, 6, [7]]]))\n",
    "    [1, 2, 3, 4, 5, 6, 7]\n",
    "    >>> list(flatten_list(['apple', 'banana', ['orange', 'lemon']]))\n",
    "    ['apple', 'banana', 'orange', 'lemon']\n",
    "\"\"\"\n",
    "\n",
    "\n",
    "def flatten_list(L):\n",
    "    for item in L:\n",
    "        if isinstance(item, list):\n",
    "            yield from flatten_list(item)\n",
    "        else:\n",
    "            yield item\n",
    "\n",
    "# # In Python 2\n",
    "# from compiler.ast import flatten\n",
    "# flatten(L)\n",
    "\n",
    "\n",
    "# Flatten list of lists\n",
    "\n",
    "a = [[1, 2], [3, 4]]\n",
    "\n",
    "# Solutions:\n",
    "\n",
    "print([x for _list in a for x in _list])\n",
    "\n",
    "import itertools\n",
    "print(list(itertools.chain(*a)))\n",
    "\n",
    "print(list(itertools.chain.from_iterable(a)))\n",
    "\n",
    "# # In Python 2\n",
    "# print(reduce(lambda x, y: x+y, a))\n",
    "\n",
    "# print(sum(a, []))"
   ]
  },
  {
   "cell_type": "code",
   "execution_count": 33,
   "metadata": {},
   "outputs": [
    {
     "name": "stdout",
     "output_type": "stream",
     "text": [
      "My name is Jeff and I'm 24 years old.\n",
      "My name is Jeff and I'm 24 years old.\n",
      "My name is Jeff, my email is jeff@usr.com and my phone number is 919-123-4567\n"
     ]
    }
   ],
   "source": [
    "\"\"\"easy string formatting using dicts\"\"\"\n",
    "\n",
    "d = {'name': 'Jeff', 'age': 24}\n",
    "print(\"My name is %(name)s and I'm %(age)i years old.\" % d)\n",
    "\n",
    "\"\"\"for .format, use this method\"\"\"\n",
    "\n",
    "d = {'name': 'Jeff', 'age': 24}\n",
    "print(\"My name is {name} and I'm {age} years old.\".format(**d))\n",
    "\n",
    "\"\"\"dict string formatting\"\"\"\n",
    "c = {'email': 'jeff@usr.com', 'phone': '919-123-4567'}\n",
    "print('My name is {0[name]}, my email is {1[email]} and my phone number is {1[phone]}'.format(d, c))"
   ]
  },
  {
   "cell_type": "code",
   "execution_count": 39,
   "metadata": {},
   "outputs": [
    {
     "name": "stdout",
     "output_type": "stream",
     "text": [
      "[1, 2, 3]\n",
      "[2, 3, 1]\n",
      "OrderedDict([(2, None), (3, None), (1, None)])\n"
     ]
    }
   ],
   "source": [
    "\n",
    "\"\"\"remove duplicate items from list. note: does not preserve the original list order\"\"\"\n",
    "\n",
    "items = [2, 2, 3, 3, 1]\n",
    "\n",
    "newitems2 = list(set(items))\n",
    "print(newitems2)\n",
    "\n",
    "\"\"\"remove dups and keep order\"\"\"\n",
    "\n",
    "from collections import OrderedDict\n",
    "\n",
    "#items = [\"foo\", \"bar\", \"bar\", \"foo\"]\n",
    "\n",
    "print(list(OrderedDict.fromkeys(items).keys()))\n",
    "\n",
    "print(OrderedDict.fromkeys(items))"
   ]
  },
  {
   "cell_type": "code",
   "execution_count": 41,
   "metadata": {},
   "outputs": [
    {
     "name": "stdout",
     "output_type": "stream",
     "text": [
      "original list:  [4, 2, 3, 5, 1]\n",
      "[(0, 4), (1, 2), (2, 3), (3, 5), (4, 1)]\n",
      "sorted list:  (1, 2, 3, 4, 5)\n",
      "original indices:  (4, 1, 2, 0, 3)\n"
     ]
    }
   ],
   "source": [
    "\"\"\"Sort a list and store previous indices of values\"\"\"\n",
    "\n",
    "# enumerate is a great but little-known tool for writing nice code\n",
    "\n",
    "l = [4, 2, 3, 5, 1]\n",
    "print(\"original list: \", l)\n",
    "print(list(enumerate(l)))\n",
    "values, indices = zip(*sorted((a, b) for (b, a) in enumerate(l)))\n",
    "\n",
    "# now values contains the sorted list and indices contains\n",
    "# the indices of the corresponding value in the original list\n",
    "\n",
    "print(\"sorted list: \", values)\n",
    "print(\"original indices: \", indices)\n",
    "\n",
    "# note that this returns tuples, but if necessary they can\n",
    "# be converted to lists using list()"
   ]
  },
  {
   "cell_type": "code",
   "execution_count": 42,
   "metadata": {},
   "outputs": [
    {
     "name": "stdout",
     "output_type": "stream",
     "text": [
      "[1, 4, 7, 10]\n"
     ]
    }
   ],
   "source": [
    "\"\"\"stepwise slicing of arrays\"\"\"\n",
    "a = [1, 2, 3, 4, 5, 6, 7, 8, 9, 10]\n",
    "print(a[::3])"
   ]
  },
  {
   "cell_type": "code",
   "execution_count": 47,
   "metadata": {},
   "outputs": [
    {
     "name": "stdout",
     "output_type": "stream",
     "text": [
      "defaultdict(<function <lambda> at 0x7fbbb422bf28>, {'matt': defaultdict(<function <lambda> at 0x7fbbb422bf28>, {'password': 'hunter2'}), 'harold': defaultdict(<function <lambda> at 0x7fbbb422bf28>, {'username': 'chopper'})})\n"
     ]
    }
   ],
   "source": [
    "\"\"\"\n",
    "See description here \n",
    "https://gist.github.com/hrldcpr/2012250\n",
    "\"\"\"\n",
    "\n",
    "from collections import defaultdict\n",
    "\n",
    "tree = lambda: defaultdict(tree)\n",
    "\n",
    "\n",
    "users = tree()\n",
    "users['harold']['username'] = 'chopper'\n",
    "users['matt']['password'] = 'hunter2'\n",
    "print(users)"
   ]
  },
  {
   "cell_type": "code",
   "execution_count": null,
   "metadata": {
    "collapsed": true
   },
   "outputs": [],
   "source": []
  }
 ],
 "metadata": {
  "kernelspec": {
   "display_name": "Python 3",
   "language": "python",
   "name": "python3"
  },
  "language_info": {
   "codemirror_mode": {
    "name": "ipython",
    "version": 3
   },
   "file_extension": ".py",
   "mimetype": "text/x-python",
   "name": "python",
   "nbconvert_exporter": "python",
   "pygments_lexer": "ipython3",
   "version": "3.5.4"
  }
 },
 "nbformat": 4,
 "nbformat_minor": 2
}
